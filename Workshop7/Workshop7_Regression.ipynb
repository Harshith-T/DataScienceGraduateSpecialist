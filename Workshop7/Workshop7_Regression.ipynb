{
  "nbformat": 4,
  "nbformat_minor": 0,
  "metadata": {
    "kernelspec": {
      "display_name": "Python 3",
      "language": "python",
      "name": "python3"
    },
    "language_info": {
      "codemirror_mode": {
        "name": "ipython",
        "version": 3
      },
      "file_extension": ".py",
      "mimetype": "text/x-python",
      "name": "python",
      "nbconvert_exporter": "python",
      "pygments_lexer": "ipython3",
      "version": "3.6.8"
    },
    "colab": {
      "provenance": []
    }
  },
  "cells": [
    {
      "cell_type": "code",
      "metadata": {
        "id": "aqNI294RnV0s"
      },
      "source": [
        "## For data handling\n",
        "import pandas as pd\n",
        "import numpy as np\n",
        "\n",
        "## For plotting\n",
        "import matplotlib.pyplot as plt\n",
        "import seaborn as sns\n",
        "\n",
        "## This sets the plot style\n",
        "## to have a grid on a white background\n",
        "sns.set_style(\"whitegrid\")"
      ],
      "execution_count": 1,
      "outputs": []
    },
    {
      "cell_type": "markdown",
      "metadata": {
        "id": "kk2h75nNnV01"
      },
      "source": [
        "This data set came from the book, <a href=\"http://faculty.marshall.usc.edu/gareth-james/ISL/\">Introduction to Statistical Learning</a>, by  Gareth James, Daniela Witten, Trevor Hastie and Robert Tibshirani. "
      ]
    },
    {
      "cell_type": "code",
      "source": [
        "from google.colab import files\n",
        "files.upload()"
      ],
      "metadata": {
        "colab": {
          "base_uri": "https://localhost:8080/",
          "height": 129
        },
        "id": "Us30ZXm3VrHn",
        "outputId": "6f69c190-fce8-47c4-e559-279c86cac818"
      },
      "execution_count": 3,
      "outputs": [
        {
          "output_type": "display_data",
          "data": {
            "text/plain": [
              "<IPython.core.display.HTML object>"
            ],
            "text/html": [
              "\n",
              "     <input type=\"file\" id=\"files-b232be9b-faf3-4cf8-8119-24d421455901\" name=\"files[]\" multiple disabled\n",
              "        style=\"border:none\" />\n",
              "     <output id=\"result-b232be9b-faf3-4cf8-8119-24d421455901\">\n",
              "      Upload widget is only available when the cell has been executed in the\n",
              "      current browser session. Please rerun this cell to enable.\n",
              "      </output>\n",
              "      <script>// Copyright 2017 Google LLC\n",
              "//\n",
              "// Licensed under the Apache License, Version 2.0 (the \"License\");\n",
              "// you may not use this file except in compliance with the License.\n",
              "// You may obtain a copy of the License at\n",
              "//\n",
              "//      http://www.apache.org/licenses/LICENSE-2.0\n",
              "//\n",
              "// Unless required by applicable law or agreed to in writing, software\n",
              "// distributed under the License is distributed on an \"AS IS\" BASIS,\n",
              "// WITHOUT WARRANTIES OR CONDITIONS OF ANY KIND, either express or implied.\n",
              "// See the License for the specific language governing permissions and\n",
              "// limitations under the License.\n",
              "\n",
              "/**\n",
              " * @fileoverview Helpers for google.colab Python module.\n",
              " */\n",
              "(function(scope) {\n",
              "function span(text, styleAttributes = {}) {\n",
              "  const element = document.createElement('span');\n",
              "  element.textContent = text;\n",
              "  for (const key of Object.keys(styleAttributes)) {\n",
              "    element.style[key] = styleAttributes[key];\n",
              "  }\n",
              "  return element;\n",
              "}\n",
              "\n",
              "// Max number of bytes which will be uploaded at a time.\n",
              "const MAX_PAYLOAD_SIZE = 100 * 1024;\n",
              "\n",
              "function _uploadFiles(inputId, outputId) {\n",
              "  const steps = uploadFilesStep(inputId, outputId);\n",
              "  const outputElement = document.getElementById(outputId);\n",
              "  // Cache steps on the outputElement to make it available for the next call\n",
              "  // to uploadFilesContinue from Python.\n",
              "  outputElement.steps = steps;\n",
              "\n",
              "  return _uploadFilesContinue(outputId);\n",
              "}\n",
              "\n",
              "// This is roughly an async generator (not supported in the browser yet),\n",
              "// where there are multiple asynchronous steps and the Python side is going\n",
              "// to poll for completion of each step.\n",
              "// This uses a Promise to block the python side on completion of each step,\n",
              "// then passes the result of the previous step as the input to the next step.\n",
              "function _uploadFilesContinue(outputId) {\n",
              "  const outputElement = document.getElementById(outputId);\n",
              "  const steps = outputElement.steps;\n",
              "\n",
              "  const next = steps.next(outputElement.lastPromiseValue);\n",
              "  return Promise.resolve(next.value.promise).then((value) => {\n",
              "    // Cache the last promise value to make it available to the next\n",
              "    // step of the generator.\n",
              "    outputElement.lastPromiseValue = value;\n",
              "    return next.value.response;\n",
              "  });\n",
              "}\n",
              "\n",
              "/**\n",
              " * Generator function which is called between each async step of the upload\n",
              " * process.\n",
              " * @param {string} inputId Element ID of the input file picker element.\n",
              " * @param {string} outputId Element ID of the output display.\n",
              " * @return {!Iterable<!Object>} Iterable of next steps.\n",
              " */\n",
              "function* uploadFilesStep(inputId, outputId) {\n",
              "  const inputElement = document.getElementById(inputId);\n",
              "  inputElement.disabled = false;\n",
              "\n",
              "  const outputElement = document.getElementById(outputId);\n",
              "  outputElement.innerHTML = '';\n",
              "\n",
              "  const pickedPromise = new Promise((resolve) => {\n",
              "    inputElement.addEventListener('change', (e) => {\n",
              "      resolve(e.target.files);\n",
              "    });\n",
              "  });\n",
              "\n",
              "  const cancel = document.createElement('button');\n",
              "  inputElement.parentElement.appendChild(cancel);\n",
              "  cancel.textContent = 'Cancel upload';\n",
              "  const cancelPromise = new Promise((resolve) => {\n",
              "    cancel.onclick = () => {\n",
              "      resolve(null);\n",
              "    };\n",
              "  });\n",
              "\n",
              "  // Wait for the user to pick the files.\n",
              "  const files = yield {\n",
              "    promise: Promise.race([pickedPromise, cancelPromise]),\n",
              "    response: {\n",
              "      action: 'starting',\n",
              "    }\n",
              "  };\n",
              "\n",
              "  cancel.remove();\n",
              "\n",
              "  // Disable the input element since further picks are not allowed.\n",
              "  inputElement.disabled = true;\n",
              "\n",
              "  if (!files) {\n",
              "    return {\n",
              "      response: {\n",
              "        action: 'complete',\n",
              "      }\n",
              "    };\n",
              "  }\n",
              "\n",
              "  for (const file of files) {\n",
              "    const li = document.createElement('li');\n",
              "    li.append(span(file.name, {fontWeight: 'bold'}));\n",
              "    li.append(span(\n",
              "        `(${file.type || 'n/a'}) - ${file.size} bytes, ` +\n",
              "        `last modified: ${\n",
              "            file.lastModifiedDate ? file.lastModifiedDate.toLocaleDateString() :\n",
              "                                    'n/a'} - `));\n",
              "    const percent = span('0% done');\n",
              "    li.appendChild(percent);\n",
              "\n",
              "    outputElement.appendChild(li);\n",
              "\n",
              "    const fileDataPromise = new Promise((resolve) => {\n",
              "      const reader = new FileReader();\n",
              "      reader.onload = (e) => {\n",
              "        resolve(e.target.result);\n",
              "      };\n",
              "      reader.readAsArrayBuffer(file);\n",
              "    });\n",
              "    // Wait for the data to be ready.\n",
              "    let fileData = yield {\n",
              "      promise: fileDataPromise,\n",
              "      response: {\n",
              "        action: 'continue',\n",
              "      }\n",
              "    };\n",
              "\n",
              "    // Use a chunked sending to avoid message size limits. See b/62115660.\n",
              "    let position = 0;\n",
              "    do {\n",
              "      const length = Math.min(fileData.byteLength - position, MAX_PAYLOAD_SIZE);\n",
              "      const chunk = new Uint8Array(fileData, position, length);\n",
              "      position += length;\n",
              "\n",
              "      const base64 = btoa(String.fromCharCode.apply(null, chunk));\n",
              "      yield {\n",
              "        response: {\n",
              "          action: 'append',\n",
              "          file: file.name,\n",
              "          data: base64,\n",
              "        },\n",
              "      };\n",
              "\n",
              "      let percentDone = fileData.byteLength === 0 ?\n",
              "          100 :\n",
              "          Math.round((position / fileData.byteLength) * 100);\n",
              "      percent.textContent = `${percentDone}% done`;\n",
              "\n",
              "    } while (position < fileData.byteLength);\n",
              "  }\n",
              "\n",
              "  // All done.\n",
              "  yield {\n",
              "    response: {\n",
              "      action: 'complete',\n",
              "    }\n",
              "  };\n",
              "}\n",
              "\n",
              "scope.google = scope.google || {};\n",
              "scope.google.colab = scope.google.colab || {};\n",
              "scope.google.colab._files = {\n",
              "  _uploadFiles,\n",
              "  _uploadFilesContinue,\n",
              "};\n",
              "})(self);\n",
              "</script> "
            ]
          },
          "metadata": {}
        },
        {
          "output_type": "stream",
          "name": "stdout",
          "text": [
            "Saving Advertising.csv to Advertising.csv\n"
          ]
        },
        {
          "output_type": "execute_result",
          "data": {
            "text/plain": [
              "{'Advertising.csv': b'TV,radio,newspaper,sales\\n230.1,37.8,69.2,22.1\\n44.5,39.3,45.1,10.4\\n17.2,45.9,69.3,9.3\\n151.5,41.3,58.5,18.5\\n180.8,10.8,58.4,12.9\\n8.7,48.9,75.0,7.2\\n57.5,32.8,23.5,11.8\\n120.2,19.6,11.6,13.2\\n8.6,2.1,1.0,4.8\\n199.8,2.6,21.2,10.6\\n66.1,5.8,24.2,8.6\\n214.7,24.0,4.0,17.4\\n23.8,35.1,65.9,9.2\\n97.5,7.6,7.2,9.7\\n204.1,32.9,46.0,19.0\\n195.4,47.7,52.9,22.4\\n67.8,36.6,114.0,12.5\\n281.4,39.6,55.8,24.4\\n69.2,20.5,18.3,11.3\\n147.3,23.9,19.1,14.6\\n218.4,27.7,53.4,18.0\\n237.4,5.1,23.5,12.5\\n13.2,15.9,49.6,5.6\\n228.3,16.9,26.2,15.5\\n62.3,12.6,18.3,9.7\\n262.9,3.5,19.5,12.0\\n142.9,29.3,12.6,15.0\\n240.1,16.7,22.9,15.9\\n248.8,27.1,22.9,18.9\\n70.6,16.0,40.8,10.5\\n292.9,28.3,43.2,21.4\\n112.9,17.4,38.6,11.9\\n97.2,1.5,30.0,9.6\\n265.6,20.0,0.3,17.4\\n95.7,1.4,7.4,9.5\\n290.7,4.1,8.5,12.8\\n266.9,43.8,5.0,25.4\\n74.7,49.4,45.7,14.7\\n43.1,26.7,35.1,10.1\\n228.0,37.7,32.0,21.5\\n202.5,22.3,31.6,16.6\\n177.0,33.4,38.7,17.1\\n293.6,27.7,1.8,20.7\\n206.9,8.4,26.4,12.9\\n25.1,25.7,43.3,8.5\\n175.1,22.5,31.5,14.9\\n89.7,9.9,35.7,10.6\\n239.9,41.5,18.5,23.2\\n227.2,15.8,49.9,14.8\\n66.9,11.7,36.8,9.7\\n199.8,3.1,34.6,11.4\\n100.4,9.6,3.6,10.7\\n216.4,41.7,39.6,22.6\\n182.6,46.2,58.7,21.2\\n262.7,28.8,15.9,20.2\\n198.9,49.4,60.0,23.7\\n7.3,28.1,41.4,5.5\\n136.2,19.2,16.6,13.2\\n210.8,49.6,37.7,23.8\\n210.7,29.5,9.3,18.4\\n53.5,2.0,21.4,8.1\\n261.3,42.7,54.7,24.2\\n239.3,15.5,27.3,15.7\\n102.7,29.6,8.4,14.0\\n131.1,42.8,28.9,18.0\\n69.0,9.3,0.9,9.3\\n31.5,24.6,2.2,9.5\\n139.3,14.5,10.2,13.4\\n237.4,27.5,11.0,18.9\\n216.8,43.9,27.2,22.3\\n199.1,30.6,38.7,18.3\\n109.8,14.3,31.7,12.4\\n26.8,33.0,19.3,8.8\\n129.4,5.7,31.3,11.0\\n213.4,24.6,13.1,17.0\\n16.9,43.7,89.4,8.7\\n27.5,1.6,20.7,6.9\\n120.5,28.5,14.2,14.2\\n5.4,29.9,9.4,5.3\\n116.0,7.7,23.1,11.0\\n76.4,26.7,22.3,11.8\\n239.8,4.1,36.9,12.3\\n75.3,20.3,32.5,11.3\\n68.4,44.5,35.6,13.6\\n213.5,43.0,33.8,21.7\\n193.2,18.4,65.7,15.2\\n76.3,27.5,16.0,12.0\\n110.7,40.6,63.2,16.0\\n88.3,25.5,73.4,12.9\\n109.8,47.8,51.4,16.7\\n134.3,4.9,9.3,11.2\\n28.6,1.5,33.0,7.3\\n217.7,33.5,59.0,19.4\\n250.9,36.5,72.3,22.2\\n107.4,14.0,10.9,11.5\\n163.3,31.6,52.9,16.9\\n197.6,3.5,5.9,11.7\\n184.9,21.0,22.0,15.5\\n289.7,42.3,51.2,25.4\\n135.2,41.7,45.9,17.2\\n222.4,4.3,49.8,11.7\\n296.4,36.3,100.9,23.8\\n280.2,10.1,21.4,14.8\\n187.9,17.2,17.9,14.7\\n238.2,34.3,5.3,20.7\\n137.9,46.4,59.0,19.2\\n25.0,11.0,29.7,7.2\\n90.4,0.3,23.2,8.7\\n13.1,0.4,25.6,5.3\\n255.4,26.9,5.5,19.8\\n225.8,8.2,56.5,13.4\\n241.7,38.0,23.2,21.8\\n175.7,15.4,2.4,14.1\\n209.6,20.6,10.7,15.9\\n78.2,46.8,34.5,14.6\\n75.1,35.0,52.7,12.6\\n139.2,14.3,25.6,12.2\\n76.4,0.8,14.8,9.4\\n125.7,36.9,79.2,15.9\\n19.4,16.0,22.3,6.6\\n141.3,26.8,46.2,15.5\\n18.8,21.7,50.4,7.0\\n224.0,2.4,15.6,11.6\\n123.1,34.6,12.4,15.2\\n229.5,32.3,74.2,19.7\\n87.2,11.8,25.9,10.6\\n7.8,38.9,50.6,6.6\\n80.2,0.0,9.2,8.8\\n220.3,49.0,3.2,24.7\\n59.6,12.0,43.1,9.7\\n0.7,39.6,8.7,1.6\\n265.2,2.9,43.0,12.7\\n8.4,27.2,2.1,5.7\\n219.8,33.5,45.1,19.6\\n36.9,38.6,65.6,10.8\\n48.3,47.0,8.5,11.6\\n25.6,39.0,9.3,9.5\\n273.7,28.9,59.7,20.8\\n43.0,25.9,20.5,9.6\\n184.9,43.9,1.7,20.7\\n73.4,17.0,12.9,10.9\\n193.7,35.4,75.6,19.2\\n220.5,33.2,37.9,20.1\\n104.6,5.7,34.4,10.4\\n96.2,14.8,38.9,11.4\\n140.3,1.9,9.0,10.3\\n240.1,7.3,8.7,13.2\\n243.2,49.0,44.3,25.4\\n38.0,40.3,11.9,10.9\\n44.7,25.8,20.6,10.1\\n280.7,13.9,37.0,16.1\\n121.0,8.4,48.7,11.6\\n197.6,23.3,14.2,16.6\\n171.3,39.7,37.7,19.0\\n187.8,21.1,9.5,15.6\\n4.1,11.6,5.7,3.2\\n93.9,43.5,50.5,15.3\\n149.8,1.3,24.3,10.1\\n11.7,36.9,45.2,7.3\\n131.7,18.4,34.6,12.9\\n172.5,18.1,30.7,14.4\\n85.7,35.8,49.3,13.3\\n188.4,18.1,25.6,14.9\\n163.5,36.8,7.4,18.0\\n117.2,14.7,5.4,11.9\\n234.5,3.4,84.8,11.9\\n17.9,37.6,21.6,8.0\\n206.8,5.2,19.4,12.2\\n215.4,23.6,57.6,17.1\\n284.3,10.6,6.4,15.0\\n50.0,11.6,18.4,8.4\\n164.5,20.9,47.4,14.5\\n19.6,20.1,17.0,7.6\\n168.4,7.1,12.8,11.7\\n222.4,3.4,13.1,11.5\\n276.9,48.9,41.8,27.0\\n248.4,30.2,20.3,20.2\\n170.2,7.8,35.2,11.7\\n276.7,2.3,23.7,11.8\\n165.6,10.0,17.6,12.6\\n156.6,2.6,8.3,10.5\\n218.5,5.4,27.4,12.2\\n56.2,5.7,29.7,8.7\\n287.6,43.0,71.8,26.2\\n253.8,21.3,30.0,17.6\\n205.0,45.1,19.6,22.6\\n139.5,2.1,26.6,10.3\\n191.1,28.7,18.2,17.3\\n286.0,13.9,3.7,15.9\\n18.7,12.1,23.4,6.7\\n39.5,41.1,5.8,10.8\\n75.5,10.8,6.0,9.9\\n17.2,4.1,31.6,5.9\\n166.8,42.0,3.6,19.6\\n149.7,35.6,6.0,17.3\\n38.2,3.7,13.8,7.6\\n94.2,4.9,8.1,9.7\\n177.0,9.3,6.4,12.8\\n283.6,42.0,66.2,25.5\\n232.1,8.6,8.7,13.4\\n'}"
            ]
          },
          "metadata": {},
          "execution_count": 3
        }
      ]
    },
    {
      "cell_type": "code",
      "metadata": {
        "id": "yTVadBo4nV03",
        "colab": {
          "base_uri": "https://localhost:8080/"
        },
        "outputId": "18fe212d-ac98-4941-c260-11437f602037"
      },
      "source": [
        "# Read in the data\n",
        "ads = pd.read_csv(\"Advertising.csv\")\n",
        "\n",
        "print(\"There are\", len(ads), \"observations in the data set.\")\n",
        "print(\"The columns are\", ads.columns)"
      ],
      "execution_count": 4,
      "outputs": [
        {
          "output_type": "stream",
          "name": "stdout",
          "text": [
            "There are 200 observations in the data set.\n",
            "The columns are Index(['TV', 'radio', 'newspaper', 'sales'], dtype='object')\n"
          ]
        }
      ]
    },
    {
      "cell_type": "code",
      "metadata": {
        "id": "YQWosF7BnV1B",
        "colab": {
          "base_uri": "https://localhost:8080/",
          "height": 206
        },
        "outputId": "592e15cf-d8cb-49de-f410-418c12498abe"
      },
      "source": [
        "# Make the train test split\n",
        "ads_copy = ads.copy()\n",
        "\n",
        "# Set aside 25% of the data\n",
        "# make 732 the random_state because we live in New Brunswick\n",
        "ads_train = ads_copy.sample(frac = .75, random_state = 732)\n",
        "ads_test = ads_copy.drop(ads_train.index)\n",
        "ads_train.head()"
      ],
      "execution_count": 5,
      "outputs": [
        {
          "output_type": "execute_result",
          "data": {
            "text/plain": [
              "        TV  radio  newspaper  sales\n",
              "24    62.3   12.6       18.3    9.7\n",
              "151  121.0    8.4       48.7   11.6\n",
              "164  117.2   14.7        5.4   11.9\n",
              "130    0.7   39.6        8.7    1.6\n",
              "30   292.9   28.3       43.2   21.4"
            ],
            "text/html": [
              "\n",
              "  <div id=\"df-84d5ea49-ff52-4aab-ac9e-eaec8f52fe66\">\n",
              "    <div class=\"colab-df-container\">\n",
              "      <div>\n",
              "<style scoped>\n",
              "    .dataframe tbody tr th:only-of-type {\n",
              "        vertical-align: middle;\n",
              "    }\n",
              "\n",
              "    .dataframe tbody tr th {\n",
              "        vertical-align: top;\n",
              "    }\n",
              "\n",
              "    .dataframe thead th {\n",
              "        text-align: right;\n",
              "    }\n",
              "</style>\n",
              "<table border=\"1\" class=\"dataframe\">\n",
              "  <thead>\n",
              "    <tr style=\"text-align: right;\">\n",
              "      <th></th>\n",
              "      <th>TV</th>\n",
              "      <th>radio</th>\n",
              "      <th>newspaper</th>\n",
              "      <th>sales</th>\n",
              "    </tr>\n",
              "  </thead>\n",
              "  <tbody>\n",
              "    <tr>\n",
              "      <th>24</th>\n",
              "      <td>62.3</td>\n",
              "      <td>12.6</td>\n",
              "      <td>18.3</td>\n",
              "      <td>9.7</td>\n",
              "    </tr>\n",
              "    <tr>\n",
              "      <th>151</th>\n",
              "      <td>121.0</td>\n",
              "      <td>8.4</td>\n",
              "      <td>48.7</td>\n",
              "      <td>11.6</td>\n",
              "    </tr>\n",
              "    <tr>\n",
              "      <th>164</th>\n",
              "      <td>117.2</td>\n",
              "      <td>14.7</td>\n",
              "      <td>5.4</td>\n",
              "      <td>11.9</td>\n",
              "    </tr>\n",
              "    <tr>\n",
              "      <th>130</th>\n",
              "      <td>0.7</td>\n",
              "      <td>39.6</td>\n",
              "      <td>8.7</td>\n",
              "      <td>1.6</td>\n",
              "    </tr>\n",
              "    <tr>\n",
              "      <th>30</th>\n",
              "      <td>292.9</td>\n",
              "      <td>28.3</td>\n",
              "      <td>43.2</td>\n",
              "      <td>21.4</td>\n",
              "    </tr>\n",
              "  </tbody>\n",
              "</table>\n",
              "</div>\n",
              "      <button class=\"colab-df-convert\" onclick=\"convertToInteractive('df-84d5ea49-ff52-4aab-ac9e-eaec8f52fe66')\"\n",
              "              title=\"Convert this dataframe to an interactive table.\"\n",
              "              style=\"display:none;\">\n",
              "        \n",
              "  <svg xmlns=\"http://www.w3.org/2000/svg\" height=\"24px\"viewBox=\"0 0 24 24\"\n",
              "       width=\"24px\">\n",
              "    <path d=\"M0 0h24v24H0V0z\" fill=\"none\"/>\n",
              "    <path d=\"M18.56 5.44l.94 2.06.94-2.06 2.06-.94-2.06-.94-.94-2.06-.94 2.06-2.06.94zm-11 1L8.5 8.5l.94-2.06 2.06-.94-2.06-.94L8.5 2.5l-.94 2.06-2.06.94zm10 10l.94 2.06.94-2.06 2.06-.94-2.06-.94-.94-2.06-.94 2.06-2.06.94z\"/><path d=\"M17.41 7.96l-1.37-1.37c-.4-.4-.92-.59-1.43-.59-.52 0-1.04.2-1.43.59L10.3 9.45l-7.72 7.72c-.78.78-.78 2.05 0 2.83L4 21.41c.39.39.9.59 1.41.59.51 0 1.02-.2 1.41-.59l7.78-7.78 2.81-2.81c.8-.78.8-2.07 0-2.86zM5.41 20L4 18.59l7.72-7.72 1.47 1.35L5.41 20z\"/>\n",
              "  </svg>\n",
              "      </button>\n",
              "      \n",
              "  <style>\n",
              "    .colab-df-container {\n",
              "      display:flex;\n",
              "      flex-wrap:wrap;\n",
              "      gap: 12px;\n",
              "    }\n",
              "\n",
              "    .colab-df-convert {\n",
              "      background-color: #E8F0FE;\n",
              "      border: none;\n",
              "      border-radius: 50%;\n",
              "      cursor: pointer;\n",
              "      display: none;\n",
              "      fill: #1967D2;\n",
              "      height: 32px;\n",
              "      padding: 0 0 0 0;\n",
              "      width: 32px;\n",
              "    }\n",
              "\n",
              "    .colab-df-convert:hover {\n",
              "      background-color: #E2EBFA;\n",
              "      box-shadow: 0px 1px 2px rgba(60, 64, 67, 0.3), 0px 1px 3px 1px rgba(60, 64, 67, 0.15);\n",
              "      fill: #174EA6;\n",
              "    }\n",
              "\n",
              "    [theme=dark] .colab-df-convert {\n",
              "      background-color: #3B4455;\n",
              "      fill: #D2E3FC;\n",
              "    }\n",
              "\n",
              "    [theme=dark] .colab-df-convert:hover {\n",
              "      background-color: #434B5C;\n",
              "      box-shadow: 0px 1px 3px 1px rgba(0, 0, 0, 0.15);\n",
              "      filter: drop-shadow(0px 1px 2px rgba(0, 0, 0, 0.3));\n",
              "      fill: #FFFFFF;\n",
              "    }\n",
              "  </style>\n",
              "\n",
              "      <script>\n",
              "        const buttonEl =\n",
              "          document.querySelector('#df-84d5ea49-ff52-4aab-ac9e-eaec8f52fe66 button.colab-df-convert');\n",
              "        buttonEl.style.display =\n",
              "          google.colab.kernel.accessAllowed ? 'block' : 'none';\n",
              "\n",
              "        async function convertToInteractive(key) {\n",
              "          const element = document.querySelector('#df-84d5ea49-ff52-4aab-ac9e-eaec8f52fe66');\n",
              "          const dataTable =\n",
              "            await google.colab.kernel.invokeFunction('convertToInteractive',\n",
              "                                                     [key], {});\n",
              "          if (!dataTable) return;\n",
              "\n",
              "          const docLinkHtml = 'Like what you see? Visit the ' +\n",
              "            '<a target=\"_blank\" href=https://colab.research.google.com/notebooks/data_table.ipynb>data table notebook</a>'\n",
              "            + ' to learn more about interactive tables.';\n",
              "          element.innerHTML = '';\n",
              "          dataTable['output_type'] = 'display_data';\n",
              "          await google.colab.output.renderOutput(dataTable, element);\n",
              "          const docLink = document.createElement('div');\n",
              "          docLink.innerHTML = docLinkHtml;\n",
              "          element.appendChild(docLink);\n",
              "        }\n",
              "      </script>\n",
              "    </div>\n",
              "  </div>\n",
              "  "
            ]
          },
          "metadata": {},
          "execution_count": 5
        }
      ]
    },
    {
      "cell_type": "code",
      "metadata": {
        "id": "bJ6umVtcnV1G",
        "colab": {
          "base_uri": "https://localhost:8080/",
          "height": 611
        },
        "outputId": "6aff926a-7f11-4a0b-da3f-214e3cf7bb79"
      },
      "source": [
        "# We'll use plt.scatter for this\n",
        "\n",
        "# first make a figure\n",
        "# this makes a figure that is 10 units by 10 units\n",
        "plt.figure(figsize = (10,10))\n",
        "\n",
        "# plt.scatter plots RD on the x and W on the y\n",
        "plt.scatter(ads_train.TV, ads_train.sales)\n",
        "\n",
        "# Always good practice to label well when\n",
        "# presenting a figure to others\n",
        "# place an xlabel\n",
        "plt.xlabel(\"TV\", fontsize =16)\n",
        "\n",
        "# place a ylabel\n",
        "plt.ylabel(\"Sales\", fontsize = 16)\n",
        "\n",
        "# type this to show the plot\n",
        "plt.show()"
      ],
      "execution_count": 6,
      "outputs": [
        {
          "output_type": "display_data",
          "data": {
            "text/plain": [
              "<Figure size 720x720 with 1 Axes>"
            ],
            "image/png": "[encoded data removed]"
          },
          "metadata": {}
        }
      ]
    },
    {
      "cell_type": "markdown",
      "metadata": {
        "id": "uU_9N0DpnV1M"
      },
      "source": [
        "## What is Regression?\n",
        "\n",
        "The idea behind statistical learning is that there is some true relationship between $X$ and $y$ that is obscured by random noise. This leads to a statistical model:\n",
        "$$\n",
        "y = f(X) + \\epsilon,\n",
        "$$\n",
        "where $\\epsilon$ is random noise with mean zero.\n",
        "\n",
        "Regression modeling is the task of approximating a mapping function (f) from input variables (X) to a continuous output variable (y)"
      ]
    },
    {
      "cell_type": "markdown",
      "metadata": {
        "id": "UV8iLNOHnV1N"
      },
      "source": [
        "## Simple linear regression method\n",
        "\n",
        "For Simple Linear Regression we model the true relationship as a straight line, let the subscript $i$ denote the $i_{\\text{th}}$ observation:\n",
        "$$\n",
        "y_i = \\beta_0 + \\beta_1 x_i + \\epsilon_i,\n",
        "$$\n",
        "here $\\beta_0$ and $\\beta_1$ are coefficients we'll need to estimate, and $\\epsilon_i$ is random noise assumed to be an independent normally distributed with mean $0$ and standard deviation $\\sigma$. Note that we assume the same formula holds for all observations.\n",
        "\n",
        "### Estimating the Model - What is \"Best\"\n",
        "\n",
        "We need to choose $\\beta_0$ and $\\beta_1$ so that the line we produce is the \"best\", but what does \"best\" mean. In general it means that we don't want our estimated line to be too far from the data. A common measure used in regression problems is the <i>Mean Square Error (MSE)</i> or equivalently the <i>Root Mean Square Error</i> (=$\\sqrt{\\text{MSE}}$). \n",
        "\n",
        "Suppose that we decide that $\\hat{\\beta_0}$ and $\\hat{\\beta_1}$ are the best estimates, then the MSE for those estimates is\n",
        "$$\n",
        "MSE = \\frac{1}{n}\\sum_{i=1}^n(\\hat{y_i} - y_i)^2 = \\frac{1}{n}\\sum_{i=1}^n(\\hat{\\beta_0} + \\hat{\\beta_1}x_i - y_i)^2.\n",
        "$$\n",
        "The \"best\" estimates will be the $\\hat{\\beta_0}$ and $\\hat{\\beta_1}$ that minimize the MSE. Doing some Calculus you can derive that this gives the following best linear estimates for the $\\hat{\\beta}$s:\n",
        "$$\n",
        "\\hat{\\beta_1} = \\frac{\\sum_{i=1}^n\\left(x_i - \\overline{x}\\right)\\left(y_i - \\overline{y}\\right)}{\\sum_{i=1}^n\\left(x_i - \\overline{x}\\right)^2} = \\frac{\\text{cov}(x,y)}{\\sigma^2_{x}}, \\text{ and}\n",
        "$$\n",
        "<br>\n",
        "$$\n",
        "\\hat{\\beta_0} = \\overline{y} - \\hat{\\beta_1}\\overline{x}.\n",
        "$$\n",
        "These two formulas give the <i>least squares coefficient estimates</i> for simple linear regression."
      ]
    },
    {
      "cell_type": "code",
      "metadata": {
        "id": "jhBEE6zbnV1N",
        "colab": {
          "base_uri": "https://localhost:8080/"
        },
        "outputId": "20632ff4-3873-4f54-b584-cfd439e04fcc"
      },
      "source": [
        "## Note you can get a column's variance using .var()\n",
        "## Note you can get a covariance matrix from a dataframe using .cov()\n",
        "\n",
        "# Get the means here\n",
        "sales_mean = ads_train.sales.mean()\n",
        "tv_mean = ads_train.TV.mean()\n",
        "\n",
        "\n",
        "# Get the covariance and variance\n",
        "cov = ads_train[['sales','TV']].cov().iloc[0,1]\n",
        "tv_var = ads_train.TV.var()\n",
        "\n",
        "# Calculate beta_1_hat\n",
        "beta_1_hat = cov/tv_var\n",
        "\n",
        "print('beta_1_hat', beta_1_hat)\n",
        "\n",
        "# Calculate beta_0_hat\n",
        "beta_0_hat = sales_mean - beta_1_hat * tv_mean\n",
        "\n",
        "print('beta_0_hat', beta_0_hat)"
      ],
      "execution_count": 7,
      "outputs": [
        {
          "output_type": "stream",
          "name": "stdout",
          "text": [
            "beta_1_hat 0.05023565368980078\n",
            "beta_0_hat 6.866889892964311\n"
          ]
        }
      ]
    },
    {
      "cell_type": "markdown",
      "metadata": {
        "id": "QvdfM3yMnV1T"
      },
      "source": [
        "### Using sklearn"
      ]
    },
    {
      "cell_type": "code",
      "metadata": {
        "id": "2nYXqzJDnV1V"
      },
      "source": [
        "## Model Building with sklearn\n",
        "\n",
        "# first we import Linear Regression from sklearn\n",
        "from sklearn.linear_model import LinearRegression"
      ],
      "execution_count": 8,
      "outputs": []
    },
    {
      "cell_type": "code",
      "metadata": {
        "id": "19pmIJ50nV1Z",
        "colab": {
          "base_uri": "https://localhost:8080/"
        },
        "outputId": "7d882bde-dce6-4dc8-8056-ac4db6d428ba"
      },
      "source": [
        "# Now we make a model object\n",
        "slr = LinearRegression(copy_X = True)\n",
        "\n",
        "# Now we fit the model\n",
        "# first goes the input variables\n",
        "# Then the output variables\n",
        "# If the input is a 1-D vector you need to reshape it\n",
        "# Then you need to ravel() the output\n",
        "slr.fit(ads_train['TV'].values.reshape(-1,1), ads_train['sales'].values.ravel())\n",
        "\n",
        "# Now we can see the coefficients\n",
        "print(\"beta_1_hat is\", slr.coef_[0])\n",
        "print(\"beta_0_hat is\", slr.intercept_)\n",
        "\n",
        "print()\n",
        "\n",
        "# Let's compare that to what we computed\n",
        "print(\"We computed beta_1_hat to be\", beta_1_hat)\n",
        "print(\"We compute beta_0_hat to be\", beta_0_hat)"
      ],
      "execution_count": 9,
      "outputs": [
        {
          "output_type": "stream",
          "name": "stdout",
          "text": [
            "beta_1_hat is 0.05023565368980075\n",
            "beta_0_hat is 6.866889892964315\n",
            "\n",
            "We computed beta_1_hat to be 0.05023565368980078\n",
            "We compute beta_0_hat to be 6.866889892964311\n"
          ]
        }
      ]
    },
    {
      "cell_type": "markdown",
      "metadata": {
        "id": "4BVyYop9nV1e"
      },
      "source": [
        "How to predict on the new data?"
      ]
    },
    {
      "cell_type": "code",
      "metadata": {
        "id": "ZY3p4zTUnV1f",
        "colab": {
          "base_uri": "https://localhost:8080/"
        },
        "outputId": "3fc00fbb-da3b-4682-c0b0-217b5b5e8ae0"
      },
      "source": [
        "slr.predict(ads_test['TV'].values.reshape(-1,1))"
      ],
      "execution_count": 10,
      "outputs": [
        {
          "output_type": "execute_result",
          "data": {
            "text/plain": [
              "array([ 8.06249845, 10.27286721, 14.26660168, 18.79283408,  7.53000052,\n",
              "       12.53849519, 11.67444195, 21.47039442, 17.26064664, 20.06379612,\n",
              "       16.85876141, 13.70898593, 17.45154213, 13.45278409, 10.33315   ,\n",
              "       10.70489383, 18.91339965, 10.30300861, 12.42797676, 12.38276467,\n",
              "        8.30362959, 16.15546226, 18.03929927, 21.75673765, 18.2101005 ,\n",
              "       10.63958749, 13.85969289,  7.81132018, 13.05089886, 18.39597241,\n",
              "       11.24743889, 10.89578932, 20.18938525, 16.59753601, 19.08420087,\n",
              "        8.77584473,  7.07285607, 13.48292548, 15.53254015, 17.25562308,\n",
              "       21.14888624,  9.37867258, 15.13065492, 15.32657397, 19.34542627,\n",
              "       14.73379326,  7.73094314,  8.78589186, 11.59908847, 18.52658511])"
            ]
          },
          "metadata": {},
          "execution_count": 10
        }
      ]
    },
    {
      "cell_type": "markdown",
      "metadata": {
        "id": "6x4y6CannV1j"
      },
      "source": [
        "Plot using sns plot"
      ]
    },
    {
      "cell_type": "code",
      "metadata": {
        "id": "zVB28N5vnV1k",
        "outputId": "fc8e502a-2d86-4b4f-e298-ecc44c2052ed",
        "colab": {
          "base_uri": "https://localhost:8080/",
          "height": 729
        }
      },
      "source": [
        "sns.lmplot(data = ads_train, x = 'TV', y = 'sales', height = 10, ci=None)\n",
        "\n",
        "\n",
        "plt.xlabel(\"TV\")\n",
        "plt.ylabel(\"sales\")\n",
        "\n",
        "plt.show()"
      ],
      "execution_count": 11,
      "outputs": [
        {
          "output_type": "display_data",
          "data": {
            "text/plain": [
              "<Figure size 720x720 with 1 Axes>"
            ],
            "image/png": "[encoded data removed]"
          },
          "metadata": {}
        }
      ]
    },
    {
      "cell_type": "markdown",
      "metadata": {
        "id": "zFxUFgh4nV1o"
      },
      "source": [
        "### Interpreting the Coeficient of SLR\n",
        "A good thing about SLR is that we can interpret the $\\beta_1$ coefficient in a meaningful way. If for example $\\hat{\\beta_1} = 2$ in our problem we could say that for a $1$ point increase in TV ad we estimate an increase of $2$ point in sales."
      ]
    },
    {
      "cell_type": "code",
      "metadata": {
        "id": "jupu5U3dnV1p",
        "colab": {
          "base_uri": "https://localhost:8080/"
        },
        "outputId": "aca78c47-2198-43b4-b8c3-0de704169e73"
      },
      "source": [
        "print(\"A 1 point increase in TV ad gives an estimated\", np.round(beta_1_hat,4), \"additional sales.\")"
      ],
      "execution_count": 12,
      "outputs": [
        {
          "output_type": "stream",
          "name": "stdout",
          "text": [
            "A 1 point increase in TV ad gives an estimated 0.0502 additional sales.\n"
          ]
        }
      ]
    },
    {
      "cell_type": "markdown",
      "metadata": {
        "id": "U6ntr83bnV1u"
      },
      "source": [
        "### Accuracy on the testing dataset"
      ]
    },
    {
      "cell_type": "code",
      "metadata": {
        "id": "lN5l6bz6nV1v",
        "colab": {
          "base_uri": "https://localhost:8080/"
        },
        "outputId": "c693c63f-1497-44ed-9e2b-320688785c65"
      },
      "source": [
        "from sklearn.metrics import mean_squared_error\n",
        "y_test = ads_test.sales.values\n",
        "y_test_pred = slr.predict(ads_test.sales.values.reshape(-1,1))\n",
        "\n",
        "\n",
        "print(\"The testing MSE is\",mean_squared_error(y_test,y_test_pred))"
      ],
      "execution_count": 13,
      "outputs": [
        {
          "output_type": "stream",
          "name": "stdout",
          "text": [
            "The testing MSE is 51.75503613319679\n"
          ]
        }
      ]
    },
    {
      "cell_type": "markdown",
      "metadata": {
        "id": "tmoOJ6vZnV10"
      },
      "source": [
        "### Assumtions of linear regression"
      ]
    },
    {
      "cell_type": "code",
      "metadata": {
        "id": "RJ_1GLHfnV12"
      },
      "source": [
        "from  sklearn.datasets import make_regression\n",
        "x, y, coef = make_regression(n_samples=500,#number of samples\n",
        "                                      n_features=1,#number of features\n",
        "                                      n_informative=1,#number of useful features \n",
        "                                      noise=10,#bias and standard deviation of the guassian noise\n",
        "                                      coef=True,#true coefficient used to generated the data\n",
        "                                      random_state=0) #set for same data points for each run\n",
        "\n",
        "# Scale feature x (years of experience) to range 0..20\n",
        "x = np.interp(x, (x.min(), x.max()), (0, 20))\n",
        "\n",
        "# Scale target y (salary) to range 20000..150000 \n",
        "y = np.interp(y, (y.min(), y.max()), (20000, 150000))"
      ],
      "execution_count": 14,
      "outputs": []
    },
    {
      "cell_type": "code",
      "metadata": {
        "id": "rNYEnNGQnV15",
        "colab": {
          "base_uri": "https://localhost:8080/",
          "height": 363
        },
        "outputId": "3931d7d5-212c-4c2d-dbb2-2f777cecfb32"
      },
      "source": [
        "regr_df = pd.DataFrame(data={'experience':x.flatten(),'salary':y})\n",
        "regr_df.head(10)"
      ],
      "execution_count": 15,
      "outputs": [
        {
          "output_type": "execute_result",
          "data": {
            "text/plain": [
              "   experience         salary\n",
              "0   12.408355  100180.088121\n",
              "1   10.178044   84230.340657\n",
              "2   10.483240   84281.342265\n",
              "3    4.010333   49278.796367\n",
              "4   15.554032  127194.177869\n",
              "5   10.988753   92999.756817\n",
              "6    6.816208   57796.727459\n",
              "7   11.418365   87617.224938\n",
              "8   11.379050   92956.406200\n",
              "9    8.686782   65661.753956"
            ],
            "text/html": [
              "\n",
              "  <div id=\"df-05696f4b-2d3e-4582-afae-1c11020bcace\">\n",
              "    <div class=\"colab-df-container\">\n",
              "      <div>\n",
              "<style scoped>\n",
              "    .dataframe tbody tr th:only-of-type {\n",
              "        vertical-align: middle;\n",
              "    }\n",
              "\n",
              "    .dataframe tbody tr th {\n",
              "        vertical-align: top;\n",
              "    }\n",
              "\n",
              "    .dataframe thead th {\n",
              "        text-align: right;\n",
              "    }\n",
              "</style>\n",
              "<table border=\"1\" class=\"dataframe\">\n",
              "  <thead>\n",
              "    <tr style=\"text-align: right;\">\n",
              "      <th></th>\n",
              "      <th>experience</th>\n",
              "      <th>salary</th>\n",
              "    </tr>\n",
              "  </thead>\n",
              "  <tbody>\n",
              "    <tr>\n",
              "      <th>0</th>\n",
              "      <td>12.408355</td>\n",
              "      <td>100180.088121</td>\n",
              "    </tr>\n",
              "    <tr>\n",
              "      <th>1</th>\n",
              "      <td>10.178044</td>\n",
              "      <td>84230.340657</td>\n",
              "    </tr>\n",
              "    <tr>\n",
              "      <th>2</th>\n",
              "      <td>10.483240</td>\n",
              "      <td>84281.342265</td>\n",
              "    </tr>\n",
              "    <tr>\n",
              "      <th>3</th>\n",
              "      <td>4.010333</td>\n",
              "      <td>49278.796367</td>\n",
              "    </tr>\n",
              "    <tr>\n",
              "      <th>4</th>\n",
              "      <td>15.554032</td>\n",
              "      <td>127194.177869</td>\n",
              "    </tr>\n",
              "    <tr>\n",
              "      <th>5</th>\n",
              "      <td>10.988753</td>\n",
              "      <td>92999.756817</td>\n",
              "    </tr>\n",
              "    <tr>\n",
              "      <th>6</th>\n",
              "      <td>6.816208</td>\n",
              "      <td>57796.727459</td>\n",
              "    </tr>\n",
              "    <tr>\n",
              "      <th>7</th>\n",
              "      <td>11.418365</td>\n",
              "      <td>87617.224938</td>\n",
              "    </tr>\n",
              "    <tr>\n",
              "      <th>8</th>\n",
              "      <td>11.379050</td>\n",
              "      <td>92956.406200</td>\n",
              "    </tr>\n",
              "    <tr>\n",
              "      <th>9</th>\n",
              "      <td>8.686782</td>\n",
              "      <td>65661.753956</td>\n",
              "    </tr>\n",
              "  </tbody>\n",
              "</table>\n",
              "</div>\n",
              "      <button class=\"colab-df-convert\" onclick=\"convertToInteractive('df-05696f4b-2d3e-4582-afae-1c11020bcace')\"\n",
              "              title=\"Convert this dataframe to an interactive table.\"\n",
              "              style=\"display:none;\">\n",
              "        \n",
              "  <svg xmlns=\"http://www.w3.org/2000/svg\" height=\"24px\"viewBox=\"0 0 24 24\"\n",
              "       width=\"24px\">\n",
              "    <path d=\"M0 0h24v24H0V0z\" fill=\"none\"/>\n",
              "    <path d=\"M18.56 5.44l.94 2.06.94-2.06 2.06-.94-2.06-.94-.94-2.06-.94 2.06-2.06.94zm-11 1L8.5 8.5l.94-2.06 2.06-.94-2.06-.94L8.5 2.5l-.94 2.06-2.06.94zm10 10l.94 2.06.94-2.06 2.06-.94-2.06-.94-.94-2.06-.94 2.06-2.06.94z\"/><path d=\"M17.41 7.96l-1.37-1.37c-.4-.4-.92-.59-1.43-.59-.52 0-1.04.2-1.43.59L10.3 9.45l-7.72 7.72c-.78.78-.78 2.05 0 2.83L4 21.41c.39.39.9.59 1.41.59.51 0 1.02-.2 1.41-.59l7.78-7.78 2.81-2.81c.8-.78.8-2.07 0-2.86zM5.41 20L4 18.59l7.72-7.72 1.47 1.35L5.41 20z\"/>\n",
              "  </svg>\n",
              "      </button>\n",
              "      \n",
              "  <style>\n",
              "    .colab-df-container {\n",
              "      display:flex;\n",
              "      flex-wrap:wrap;\n",
              "      gap: 12px;\n",
              "    }\n",
              "\n",
              "    .colab-df-convert {\n",
              "      background-color: #E8F0FE;\n",
              "      border: none;\n",
              "      border-radius: 50%;\n",
              "      cursor: pointer;\n",
              "      display: none;\n",
              "      fill: #1967D2;\n",
              "      height: 32px;\n",
              "      padding: 0 0 0 0;\n",
              "      width: 32px;\n",
              "    }\n",
              "\n",
              "    .colab-df-convert:hover {\n",
              "      background-color: #E2EBFA;\n",
              "      box-shadow: 0px 1px 2px rgba(60, 64, 67, 0.3), 0px 1px 3px 1px rgba(60, 64, 67, 0.15);\n",
              "      fill: #174EA6;\n",
              "    }\n",
              "\n",
              "    [theme=dark] .colab-df-convert {\n",
              "      background-color: #3B4455;\n",
              "      fill: #D2E3FC;\n",
              "    }\n",
              "\n",
              "    [theme=dark] .colab-df-convert:hover {\n",
              "      background-color: #434B5C;\n",
              "      box-shadow: 0px 1px 3px 1px rgba(0, 0, 0, 0.15);\n",
              "      filter: drop-shadow(0px 1px 2px rgba(0, 0, 0, 0.3));\n",
              "      fill: #FFFFFF;\n",
              "    }\n",
              "  </style>\n",
              "\n",
              "      <script>\n",
              "        const buttonEl =\n",
              "          document.querySelector('#df-05696f4b-2d3e-4582-afae-1c11020bcace button.colab-df-convert');\n",
              "        buttonEl.style.display =\n",
              "          google.colab.kernel.accessAllowed ? 'block' : 'none';\n",
              "\n",
              "        async function convertToInteractive(key) {\n",
              "          const element = document.querySelector('#df-05696f4b-2d3e-4582-afae-1c11020bcace');\n",
              "          const dataTable =\n",
              "            await google.colab.kernel.invokeFunction('convertToInteractive',\n",
              "                                                     [key], {});\n",
              "          if (!dataTable) return;\n",
              "\n",
              "          const docLinkHtml = 'Like what you see? Visit the ' +\n",
              "            '<a target=\"_blank\" href=https://colab.research.google.com/notebooks/data_table.ipynb>data table notebook</a>'\n",
              "            + ' to learn more about interactive tables.';\n",
              "          element.innerHTML = '';\n",
              "          dataTable['output_type'] = 'display_data';\n",
              "          await google.colab.output.renderOutput(dataTable, element);\n",
              "          const docLink = document.createElement('div');\n",
              "          docLink.innerHTML = docLinkHtml;\n",
              "          element.appendChild(docLink);\n",
              "        }\n",
              "      </script>\n",
              "    </div>\n",
              "  </div>\n",
              "  "
            ]
          },
          "metadata": {},
          "execution_count": 15
        }
      ]
    },
    {
      "cell_type": "markdown",
      "metadata": {
        "id": "KYZXTsOWnV1_"
      },
      "source": [
        "#### Assumption 1 - A Linear Relationship\n",
        "There exists a linear relationship between $y$ and $X$. This one is pretty straightforward. If we are going to model $y$ as a linear function of $X$ then we better think that one actually exists."
      ]
    },
    {
      "cell_type": "code",
      "metadata": {
        "id": "pC_-7eyUnV2B",
        "colab": {
          "base_uri": "https://localhost:8080/",
          "height": 611
        },
        "outputId": "73b82505-7ef1-4fb2-bbf5-57a11c16d831"
      },
      "source": [
        "# We'll use plt.scatter for this\n",
        "\n",
        "# first make a figure\n",
        "# this makes a figure that is 10 units by 10 units\n",
        "plt.figure(figsize = (10,10))\n",
        "\n",
        "# plt.scatter plots TV on the x and sales on the y\n",
        "plt.scatter(regr_df.experience, regr_df.salary)\n",
        "\n",
        "# place an xlabel\n",
        "plt.xlabel(\"experience\", fontsize =16)\n",
        "\n",
        "# place a ylabel\n",
        "plt.ylabel(\"salary\", fontsize = 16)\n",
        "\n",
        "# type this to show the plot\n",
        "plt.show()"
      ],
      "execution_count": 16,
      "outputs": [
        {
          "output_type": "display_data",
          "data": {
            "text/plain": [
              "<Figure size 720x720 with 1 Axes>"
            ],
            "image/png": "[encoded data removed]"
          },
          "metadata": {}
        }
      ]
    },
    {
      "cell_type": "markdown",
      "metadata": {
        "id": "w6_lU2wnnV2F"
      },
      "source": [
        "Pearson Correlation, $\\rho$  is the measure of the <i>strength of the linear relationship</i> between $y$ and $X$."
      ]
    },
    {
      "cell_type": "code",
      "metadata": {
        "id": "PlnQdaQFnV2G",
        "colab": {
          "base_uri": "https://localhost:8080/",
          "height": 112
        },
        "outputId": "e74f6ca0-93e9-4caf-cca4-d0dcf115142f"
      },
      "source": [
        "# Let's calculate it here\n",
        "\n",
        "# pandas has a nice corr() function\n",
        "regr_df[['experience','salary']].corr()"
      ],
      "execution_count": 17,
      "outputs": [
        {
          "output_type": "execute_result",
          "data": {
            "text/plain": [
              "            experience    salary\n",
              "experience    1.000000  0.978166\n",
              "salary        0.978166  1.000000"
            ],
            "text/html": [
              "\n",
              "  <div id=\"df-e9f9da62-0369-439e-96bf-10e16312df2c\">\n",
              "    <div class=\"colab-df-container\">\n",
              "      <div>\n",
              "<style scoped>\n",
              "    .dataframe tbody tr th:only-of-type {\n",
              "        vertical-align: middle;\n",
              "    }\n",
              "\n",
              "    .dataframe tbody tr th {\n",
              "        vertical-align: top;\n",
              "    }\n",
              "\n",
              "    .dataframe thead th {\n",
              "        text-align: right;\n",
              "    }\n",
              "</style>\n",
              "<table border=\"1\" class=\"dataframe\">\n",
              "  <thead>\n",
              "    <tr style=\"text-align: right;\">\n",
              "      <th></th>\n",
              "      <th>experience</th>\n",
              "      <th>salary</th>\n",
              "    </tr>\n",
              "  </thead>\n",
              "  <tbody>\n",
              "    <tr>\n",
              "      <th>experience</th>\n",
              "      <td>1.000000</td>\n",
              "      <td>0.978166</td>\n",
              "    </tr>\n",
              "    <tr>\n",
              "      <th>salary</th>\n",
              "      <td>0.978166</td>\n",
              "      <td>1.000000</td>\n",
              "    </tr>\n",
              "  </tbody>\n",
              "</table>\n",
              "</div>\n",
              "      <button class=\"colab-df-convert\" onclick=\"convertToInteractive('df-e9f9da62-0369-439e-96bf-10e16312df2c')\"\n",
              "              title=\"Convert this dataframe to an interactive table.\"\n",
              "              style=\"display:none;\">\n",
              "        \n",
              "  <svg xmlns=\"http://www.w3.org/2000/svg\" height=\"24px\"viewBox=\"0 0 24 24\"\n",
              "       width=\"24px\">\n",
              "    <path d=\"M0 0h24v24H0V0z\" fill=\"none\"/>\n",
              "    <path d=\"M18.56 5.44l.94 2.06.94-2.06 2.06-.94-2.06-.94-.94-2.06-.94 2.06-2.06.94zm-11 1L8.5 8.5l.94-2.06 2.06-.94-2.06-.94L8.5 2.5l-.94 2.06-2.06.94zm10 10l.94 2.06.94-2.06 2.06-.94-2.06-.94-.94-2.06-.94 2.06-2.06.94z\"/><path d=\"M17.41 7.96l-1.37-1.37c-.4-.4-.92-.59-1.43-.59-.52 0-1.04.2-1.43.59L10.3 9.45l-7.72 7.72c-.78.78-.78 2.05 0 2.83L4 21.41c.39.39.9.59 1.41.59.51 0 1.02-.2 1.41-.59l7.78-7.78 2.81-2.81c.8-.78.8-2.07 0-2.86zM5.41 20L4 18.59l7.72-7.72 1.47 1.35L5.41 20z\"/>\n",
              "  </svg>\n",
              "      </button>\n",
              "      \n",
              "  <style>\n",
              "    .colab-df-container {\n",
              "      display:flex;\n",
              "      flex-wrap:wrap;\n",
              "      gap: 12px;\n",
              "    }\n",
              "\n",
              "    .colab-df-convert {\n",
              "      background-color: #E8F0FE;\n",
              "      border: none;\n",
              "      border-radius: 50%;\n",
              "      cursor: pointer;\n",
              "      display: none;\n",
              "      fill: #1967D2;\n",
              "      height: 32px;\n",
              "      padding: 0 0 0 0;\n",
              "      width: 32px;\n",
              "    }\n",
              "\n",
              "    .colab-df-convert:hover {\n",
              "      background-color: #E2EBFA;\n",
              "      box-shadow: 0px 1px 2px rgba(60, 64, 67, 0.3), 0px 1px 3px 1px rgba(60, 64, 67, 0.15);\n",
              "      fill: #174EA6;\n",
              "    }\n",
              "\n",
              "    [theme=dark] .colab-df-convert {\n",
              "      background-color: #3B4455;\n",
              "      fill: #D2E3FC;\n",
              "    }\n",
              "\n",
              "    [theme=dark] .colab-df-convert:hover {\n",
              "      background-color: #434B5C;\n",
              "      box-shadow: 0px 1px 3px 1px rgba(0, 0, 0, 0.15);\n",
              "      filter: drop-shadow(0px 1px 2px rgba(0, 0, 0, 0.3));\n",
              "      fill: #FFFFFF;\n",
              "    }\n",
              "  </style>\n",
              "\n",
              "      <script>\n",
              "        const buttonEl =\n",
              "          document.querySelector('#df-e9f9da62-0369-439e-96bf-10e16312df2c button.colab-df-convert');\n",
              "        buttonEl.style.display =\n",
              "          google.colab.kernel.accessAllowed ? 'block' : 'none';\n",
              "\n",
              "        async function convertToInteractive(key) {\n",
              "          const element = document.querySelector('#df-e9f9da62-0369-439e-96bf-10e16312df2c');\n",
              "          const dataTable =\n",
              "            await google.colab.kernel.invokeFunction('convertToInteractive',\n",
              "                                                     [key], {});\n",
              "          if (!dataTable) return;\n",
              "\n",
              "          const docLinkHtml = 'Like what you see? Visit the ' +\n",
              "            '<a target=\"_blank\" href=https://colab.research.google.com/notebooks/data_table.ipynb>data table notebook</a>'\n",
              "            + ' to learn more about interactive tables.';\n",
              "          element.innerHTML = '';\n",
              "          dataTable['output_type'] = 'display_data';\n",
              "          await google.colab.output.renderOutput(dataTable, element);\n",
              "          const docLink = document.createElement('div');\n",
              "          docLink.innerHTML = docLinkHtml;\n",
              "          element.appendChild(docLink);\n",
              "        }\n",
              "      </script>\n",
              "    </div>\n",
              "  </div>\n",
              "  "
            ]
          },
          "metadata": {},
          "execution_count": 17
        }
      ]
    },
    {
      "cell_type": "markdown",
      "metadata": {
        "id": "lbNKzgAmnV2K"
      },
      "source": [
        "Pearson Correlation is bounded between $-1$ and $1$ with more positive values indicating a strong positive linear relationship, and more negative values indicating a strong negative linear relationship. Our correlation of $0.98$ here indicates that there is strong positive linear relationship between experince and salary.\n",
        "\n",
        "Potential solutions:\n",
        "non-linear transformations to dependent/independent variables"
      ]
    },
    {
      "cell_type": "markdown",
      "metadata": {
        "id": "kjiIYCbonV2L"
      },
      "source": [
        "#### Assumption 2 - No Autocorrelation in residuals."
      ]
    },
    {
      "cell_type": "markdown",
      "metadata": {
        "id": "9GDonBasnV2L"
      },
      "source": [
        "We also assume that there is no autocorrelation in resdiuals. Plot your residuals (this is what we call the difference between the predicted values and the actual values, $y_i - \\hat{y_i}$) against your feature and other variables of concern. Then you examine the plots to see if there is an obvious relationship. Let's do that below."
      ]
    },
    {
      "cell_type": "code",
      "metadata": {
        "id": "PYF0bF1LnV2M",
        "colab": {
          "base_uri": "https://localhost:8080/",
          "height": 719
        },
        "outputId": "99010d46-7a94-4c56-880f-b5ef1088e9e3"
      },
      "source": [
        "# make the model object\n",
        "reg = LinearRegression(copy_X = True)\n",
        "\n",
        "# fit the model\n",
        "reg.fit(regr_df.experience.values.reshape(-1,1),regr_df.salary.values.ravel())\n",
        "\n",
        "# predict\n",
        "pred = reg.predict(regr_df.experience.values.reshape(-1,1))\n",
        "\n",
        "# Now get the residuals\n",
        "res = regr_df.salary.values.ravel() - pred\n",
        "\n",
        "plt.figure(figsize = (12,12))\n",
        "\n",
        "plt.scatter(regr_df.experience,res)\n",
        "\n",
        "plt.xlabel(\"experience\", fontsize = 16)\n",
        "plt.ylabel(\"Residual\", fontsize = 16)\n",
        "\n",
        "plt.show()"
      ],
      "execution_count": 18,
      "outputs": [
        {
          "output_type": "display_data",
          "data": {
            "text/plain": [
              "<Figure size 864x864 with 1 Axes>"
            ],
            "image/png": "[encoded data removed]"
          },
          "metadata": {}
        }
      ]
    },
    {
      "cell_type": "markdown",
      "metadata": {
        "id": "KOSfhgyLnV2Q"
      },
      "source": [
        "Looking at the plot of experience vs residual it seems that the two have no obvious relationship, which is a good sign for our inderpendence assumption. \n",
        "\n",
        "Potential solutions:\n",
        "Correlations in residual frequently occur in the context of time series data. Hence, you might fit time series data\n",
        "\n",
        "#### Assumption 3 - The Residuals are Normally Distributed with Mean 0 and Equal Variance\n",
        "\n",
        "The final assumption is on the distribution of the residuals. We say that $\\epsilon_i \\sim N(0,\\sigma^2)$ for all $i$. The assumption on variance is called the homoscedasticity assumption.\n",
        "\n",
        "We can make a histogram of the residuals to check for a bell curve."
      ]
    },
    {
      "cell_type": "code",
      "metadata": {
        "id": "EqYHM1KsnV2R",
        "colab": {
          "base_uri": "https://localhost:8080/",
          "height": 483
        },
        "outputId": "1862f5a7-8970-4107-9137-23a331d870e5"
      },
      "source": [
        "plt.figure(figsize = (10,8))\n",
        "\n",
        "plt.hist(res, bins=30)\n",
        "\n",
        "plt.show()"
      ],
      "execution_count": 19,
      "outputs": [
        {
          "output_type": "display_data",
          "data": {
            "text/plain": [
              "<Figure size 720x576 with 1 Axes>"
            ],
            "image/png": "[encoded data removed]"
          },
          "metadata": {}
        }
      ]
    },
    {
      "cell_type": "code",
      "metadata": {
        "id": "1j3qIB77nV2U",
        "colab": {
          "base_uri": "https://localhost:8080/",
          "height": 502
        },
        "outputId": "92dae043-2b85-4b1e-bf98-a2c506dfe374"
      },
      "source": [
        "import statsmodels.api as sm \n",
        "\n",
        "fig,ax = plt.subplots(figsize=(10,8))\n",
        "\n",
        "# qqplot makes the qqplot\n",
        "# put in the data you want to plot\n",
        "# line = 's' plots a line fit to our data\n",
        "# ax=ax allows us to put the data on the plt subplot object I made\n",
        "sm.qqplot(res,line='s',ax=ax) \n",
        "\n",
        "# Normals go on the x-axis\n",
        "plt.xlabel(\"Normal Quantiles\", fontsize=16)\n",
        "\n",
        "# Residuals on the y-axis\n",
        "plt.ylabel(\"Residual Quantiles\", fontsize=16)\n",
        "\n",
        "\n",
        "plt.show() "
      ],
      "execution_count": 26,
      "outputs": [
        {
          "output_type": "display_data",
          "data": {
            "text/plain": [
              "<Figure size 720x576 with 1 Axes>"
            ],
            "image/png": "[encoded data removed]"
          },
          "metadata": {}
        }
      ]
    },
    {
      "cell_type": "markdown",
      "metadata": {
        "id": "bsb_mwt3nV2X"
      },
      "source": [
        "Residuals should have a constant variance\n",
        "Now we plot the predicted values vs the residuals. If the residuals have equal variance you should expect to see most of the points fall in a band around $0$. We DON'T want to see the points opening up into a funnel shape or closing into a funnel shape."
      ]
    },
    {
      "cell_type": "code",
      "metadata": {
        "id": "cejlCGdHnV2Y",
        "colab": {
          "base_uri": "https://localhost:8080/",
          "height": 611
        },
        "outputId": "0a742061-3433-4c32-c032-5674e06af139"
      },
      "source": [
        "plt.figure(figsize=(12,10))\n",
        "\n",
        "plt.scatter(pred,res)\n",
        "\n",
        "plt.xlabel(\"Fitted Values\", fontsize = 16)\n",
        "plt.ylabel(\"Residuals\", fontsize = 16)\n",
        "\n",
        "plt.show()"
      ],
      "execution_count": 27,
      "outputs": [
        {
          "output_type": "display_data",
          "data": {
            "text/plain": [
              "<Figure size 864x720 with 1 Axes>"
            ],
            "image/png": "[encoded data removed]"
          },
          "metadata": {}
        }
      ]
    },
    {
      "cell_type": "markdown",
      "metadata": {
        "id": "f3cVwG0AnV2d"
      },
      "source": [
        "## Multiple linear regression model\n",
        "\n",
        "## What Changes Going From One Predictor to Many?\n",
        "\n",
        "### The Statistical Model\n",
        "\n",
        "As always assume the data consists of $n$ observations.\n",
        "\n",
        "Recall that the simple linear regression statistical model is:\n",
        "$$\n",
        "y = \\beta_0 + \\beta_1 X + \\epsilon,\n",
        "$$\n",
        "where $y$ was your target vector, $X$ a vector of values for a single feature, and $\\epsilon$ is a vector of independent $\\epsilon_i \\sim N(0,\\sigma^2)$ for all $i$. \n",
        "\n",
        "Now for multiple linear regression let's say you have $m$ features you want to use to predict $y$. Then the model becomes:\n",
        "$$\n",
        "y = \\beta_0 + \\beta_1 X_1 + \\beta_2 X_2 + \\dots + \\beta_m X_m + \\epsilon ,\n",
        "$$\n",
        "where $X_1,X_2,\\dots,X_m$ are the $m$ features, and $\\epsilon$ is the same as in SLR. If we collect all of the features as a single column along with a column of $1$s in a larger feature matrix,\n",
        "$$\n",
        "X = \\left(\\begin{array}{c | c | c | c | c}\n",
        "    1 & X_1 & X_2 & \\dots & X_m\n",
        "\\end{array}\\right),\n",
        "$$\n",
        "and let $\\beta=\\left(\\beta_0, \\beta_1, \\beta_2,\\dots,\\beta_m\\right)^T$ then the statistical model for MLR becomes:\n",
        "$$\n",
        "y = X\\beta + \\epsilon.\n",
        "$$\n",
        "\n",
        "We're still making all of the same assumptions as in SLR, but now $y$ is a linear function of $m$ predictors instead of just $1$. \n",
        "\n",
        "### Estimating the Model\n",
        "\n",
        "When it comes to estimating $\\beta$ we can get away with just using the `sklearn` shortcut we learned in SLR I in practice. However, let's show the formula for the estimate $\\hat{\\beta}$ so we can get behind the black box nature of `sklearn`.\n",
        "\n",
        "#### Minimizing MSE\n",
        "\n",
        "We again set out to minimize the MSE\n",
        "$$\n",
        "MSE = \\frac{1}{n} \\sum_{i=1}^n \\left( y_i - \\hat{y_i} \\right)^2 = \\frac{1}{n} \\sum_{i=1}^n \\left( y_i - X_{i,\\bullet} \\hat{\\beta} \\right)^2\n",
        "$$\n",
        "You can use some rewriting, linear algebra, and matrix differentiation to come up with the following OLS estimate for $\\beta$,\n",
        "$$\n",
        "\\hat{\\beta} = (X^TX)^{-1}X^Ty.\n",
        "$$\n",
        "This is the estimate of $\\beta$ that minimizes the MSE, you may hear people refer to this as the normal equation or the Ordinary Least Squares (OLS) Solution."
      ]
    },
    {
      "cell_type": "markdown",
      "metadata": {
        "id": "IX6NqzLhnV2d"
      },
      "source": [
        "How can we decide which predictors to include? "
      ]
    },
    {
      "cell_type": "code",
      "metadata": {
        "id": "uD-YxJTVnV2e",
        "colab": {
          "base_uri": "https://localhost:8080/"
        },
        "outputId": "0ce2225b-ec89-4566-b226-01a68ed17b50"
      },
      "source": [
        "ads_train.corr()['sales'].sort_values()"
      ],
      "execution_count": 20,
      "outputs": [
        {
          "output_type": "execute_result",
          "data": {
            "text/plain": [
              "newspaper    0.201415\n",
              "radio        0.551298\n",
              "TV           0.809942\n",
              "sales        1.000000\n",
              "Name: sales, dtype: float64"
            ]
          },
          "metadata": {},
          "execution_count": 20
        }
      ]
    },
    {
      "cell_type": "markdown",
      "metadata": {
        "id": "evCuTh6tnV2h"
      },
      "source": [
        "It looks like `radio` and `TV` are the most promising when it comes to having a linear relationship. Both have relatively strong positive linear relationships according to the Pearson correlation. In addition to examining $\\rho$, this data set has so few features we can produce pairwise correlation plot. "
      ]
    },
    {
      "cell_type": "code",
      "metadata": {
        "id": "RyKWpqyAnV2i",
        "colab": {
          "base_uri": "https://localhost:8080/",
          "height": 726
        },
        "outputId": "80379a20-de5c-4046-fc62-88a4b850603b"
      },
      "source": [
        "sns.pairplot(ads_train, plot_kws={'s': 7})\n",
        "\n",
        "plt.show()\n"
      ],
      "execution_count": 21,
      "outputs": [
        {
          "output_type": "display_data",
          "data": {
            "text/plain": [
              "<Figure size 720x720 with 20 Axes>"
            ],
            "image/png": "[encoded data removed]"
          },
          "metadata": {}
        }
      ]
    },
    {
      "cell_type": "markdown",
      "metadata": {
        "id": "wiHRF5nNnV2p"
      },
      "source": [
        "It seems that a reasonable starting model would be\n",
        "$$\n",
        "\\text{sales} = \\beta_0 + \\beta_1 \\text{TV} + \\beta_2 \\text{radio} + \\epsilon\n",
        "$$\n",
        "Let's fit the coefficients using the formula we just learned before diving into `sklearn`."
      ]
    },
    {
      "cell_type": "code",
      "metadata": {
        "id": "JGzRQUEenV2p"
      },
      "source": [
        "# make X\n",
        "X = np.ones([len(ads_train),3])\n",
        "X[:,1] = np.array(ads_train.TV)\n",
        "X[:,2] = np.array(ads_train.radio)\n",
        "\n",
        "# Make y\n",
        "y = np.array(ads_train.sales)\n",
        "\n",
        "# Calculate beta_hat\n",
        "beta_hat = np.linalg.inv(X.transpose().dot(X)).dot(X.transpose()).dot(y)"
      ],
      "execution_count": 22,
      "outputs": []
    },
    {
      "cell_type": "code",
      "metadata": {
        "id": "DLr93GqonV2t",
        "colab": {
          "base_uri": "https://localhost:8080/"
        },
        "outputId": "9c04c72d-21be-4e69-8c19-17b82b2ab471"
      },
      "source": [
        "print(\"beta_0_hat is\",np.round(beta_hat[0],5))\n",
        "print(\"beta_1_hat is\",np.round(beta_hat[1],5))\n",
        "print(\"beta_2_hat is\",np.round(beta_hat[2],5))\n",
        "#print(\"beta_3_hat is\",np.round(beta_hat[3],5))"
      ],
      "execution_count": 23,
      "outputs": [
        {
          "output_type": "stream",
          "name": "stdout",
          "text": [
            "beta_0_hat is 2.80816\n",
            "beta_1_hat is 0.04795\n",
            "beta_2_hat is 0.18041\n"
          ]
        }
      ]
    },
    {
      "cell_type": "markdown",
      "metadata": {
        "id": "b5g5npJ_nV2w"
      },
      "source": [
        "Using sklearn"
      ]
    },
    {
      "cell_type": "code",
      "metadata": {
        "id": "jBjYfOfmnV2x",
        "colab": {
          "base_uri": "https://localhost:8080/"
        },
        "outputId": "69cffa75-2457-4096-d4bf-3e03dc5a2b68"
      },
      "source": [
        "# Make the model object\n",
        "reg = LinearRegression(copy_X = True)\n",
        "reg.fit(ads_train[['TV','radio']],ads_train['sales'])\n",
        "print(\"beta_0_hat is\",np.round(reg.intercept_,5))\n",
        "print(\"beta_1_hat is\",np.round(reg.coef_[0],5))\n",
        "print(\"beta_2_hat is\",np.round(reg.coef_[1],5))"
      ],
      "execution_count": 24,
      "outputs": [
        {
          "output_type": "stream",
          "name": "stdout",
          "text": [
            "beta_0_hat is 2.80816\n",
            "beta_1_hat is 0.04795\n",
            "beta_2_hat is 0.18041\n"
          ]
        }
      ]
    },
    {
      "cell_type": "markdown",
      "metadata": {
        "id": "2n_ia8qpnV21"
      },
      "source": [
        "#### Predict function"
      ]
    },
    {
      "cell_type": "code",
      "metadata": {
        "id": "bfXe9vMnnV22",
        "colab": {
          "base_uri": "https://localhost:8080/"
        },
        "outputId": "b1f54daa-83a9-4e75-b631-a645bde4b967"
      },
      "source": [
        "pred = reg.predict(ads_train[['TV','radio']])\n",
        "pred[:10]"
      ],
      "execution_count": 25,
      "outputs": [
        {
          "output_type": "execute_result",
          "data": {
            "text/plain": [
              "array([ 8.06840257, 10.12510897, 11.07951205,  9.98605619, 21.95725894,\n",
              "       20.80239807,  9.87551421, 15.63704109, 16.3387997 , 20.77372198])"
            ]
          },
          "metadata": {},
          "execution_count": 25
        }
      ]
    },
    {
      "cell_type": "code",
      "metadata": {
        "id": "4McQDaLDnV25",
        "colab": {
          "base_uri": "https://localhost:8080/"
        },
        "outputId": "28d57542-7e81-4134-9dd0-08b61995edd7"
      },
      "source": [
        "y_test = ads_test.sales.values\n",
        "y_test_pred = reg.predict(ads_test[['TV','radio']])\n",
        "\n",
        "\n",
        "print(\"The testing MSE is\",mean_squared_error(y_test,y_test_pred))"
      ],
      "execution_count": 26,
      "outputs": [
        {
          "output_type": "stream",
          "name": "stdout",
          "text": [
            "The testing MSE is 2.58770925650724\n"
          ]
        }
      ]
    },
    {
      "cell_type": "markdown",
      "metadata": {
        "id": "SyFTPEbAnV27"
      },
      "source": [
        "#### Multiple linear regression Interpretation\n",
        "\n",
        "We can still interpret the fit, but the specific details are slightly different. Let's interpret $\\hat{\\beta_1}$, this has been estimated as $0.04645$. We can interpret this as:\n",
        "\n",
        "<i>for a $1$ unit increase in TV holding all other variables constant, we estimate a $0.04645$ increase in sales.</i>"
      ]
    },
    {
      "cell_type": "markdown",
      "metadata": {
        "id": "yxJfI7ixnV29"
      },
      "source": [
        "#### Assumption 4 - Multicollinearity\n",
        "\n",
        "Collinearity refers to the situation in which two or more predictor variables collinearity\n",
        "are closely related to one another. Multicollinearity occurs when your model includes multiple factors that are correlated not just to your response variable, but also to each other. In other words, it results when you have factors that are a bit redundant. <br>\n",
        "\n",
        "When this occurs the matrix $X^T X$ is not of full rank, which means it is not invertible, but remember\n",
        "$$\n",
        "\\hat{\\beta} = (X^T X)^{-1} X^T y.\n",
        "$$\n",
        "\n",
        "So not being invertible is a big problem for us. Fortunately it is rarely the case that one predictor is a perfect linear combination of other predictors. However, one feature being highly correlated with other features can make a matrix close to singular, which is no good for your computer.\n",
        "\n",
        "A simple way to detect collinearity is to look at the correlation matrix of the predictors. An element of this matrix that is large in absolute value indicates a pair of highly correlated variables, and therefore a collinearity problem in the data. Unfortunately, not all collinearity problems can be\n",
        "detected by inspection of the correlation matrix: it is possible for collinearity to exist between three or more variables even if no pair of variables has a particularly high correlation. We call this situation multicollinearity. Instead of inspecting the correlation matrix, a better way to assess multi- collinearity\n",
        "collinearity is to compute the variance inflation factor. You can read about more details in ISLR book from the refrence."
      ]
    },
    {
      "cell_type": "markdown",
      "metadata": {
        "id": "DUUwylWUnV29"
      },
      "source": [
        "Refrences: <br>\n",
        "1) Erdos institute <br>\n",
        "2) https://ademos.people.uic.edu/Chapter12.html <br>\n",
        "3) ISLR (Introduction to Statistical learning)"
      ]
    }
  ]
}